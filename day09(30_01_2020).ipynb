{
  "nbformat": 4,
  "nbformat_minor": 0,
  "metadata": {
    "colab": {
      "name": "day09(30-01-2020).ipynb",
      "provenance": [],
      "authorship_tag": "ABX9TyMfm1ZBOBBqLK9pBmotKJ4z",
      "include_colab_link": true
    },
    "kernelspec": {
      "name": "python3",
      "display_name": "Python 3"
    }
  },
  "cells": [
    {
      "cell_type": "markdown",
      "metadata": {
        "id": "view-in-github",
        "colab_type": "text"
      },
      "source": [
        "<a href=\"https://colab.research.google.com/github/msvramanan/jntua/blob/master/day09(30_01_2020).ipynb\" target=\"_parent\"><img src=\"https://colab.research.google.com/assets/colab-badge.svg\" alt=\"Open In Colab\"/></a>"
      ]
    },
    {
      "cell_type": "code",
      "metadata": {
        "id": "x4mvFHZb8Zr6",
        "colab_type": "code",
        "colab": {}
      },
      "source": [
        ""
      ],
      "execution_count": 0,
      "outputs": []
    },
    {
      "cell_type": "markdown",
      "metadata": {
        "id": "agjD11yW9v25",
        "colab_type": "text"
      },
      "source": [
        "#Markdown\n",
        "##Markdown\n",
        "###Markdown\n",
        "####Markdown\n",
        "\n"
      ]
    },
    {
      "cell_type": "markdown",
      "metadata": {
        "id": "DfbaRNPn-fjq",
        "colab_type": "text"
      },
      "source": [
        "**Points**\n",
        "*Points*\n",
        "***Points***\n",
        "*** Adding links to Markdown ***\n",
        "[site](https://www.jntua.ac.in/)\n",
        "\n",
        "\n"
      ]
    },
    {
      "cell_type": "markdown",
      "metadata": {
        "id": "LlGCEp8vBteb",
        "colab_type": "text"
      },
      "source": [
        "### Inserting Image\n",
        "![text](https://upload.wikimedia.org/wikipedia/en/thumb/e/e3/Jawaharlal_Nehru_Technological_University%2C_Anantapur_logo.png/220px-Jawaharlal_Nehru_Technological_University%2C_Anantapur_logo.png)\n",
        "\n",
        "\n"
      ]
    },
    {
      "cell_type": "code",
      "metadata": {
        "id": "LGAloEjPDE86",
        "colab_type": "code",
        "colab": {
          "base_uri": "https://localhost:8080/",
          "height": 34
        },
        "outputId": "4866991b-2f7f-4bb4-8ee5-2cea74d148cc"
      },
      "source": [
        "print(\"hello world!\")"
      ],
      "execution_count": 1,
      "outputs": [
        {
          "output_type": "stream",
          "text": [
            "hello world!\n"
          ],
          "name": "stdout"
        }
      ]
    },
    {
      "cell_type": "code",
      "metadata": {
        "id": "vym5rH9yDKxB",
        "colab_type": "code",
        "colab": {
          "base_uri": "https://localhost:8080/",
          "height": 51
        },
        "outputId": "9834b2e2-584b-4a08-e575-a95b6b29eb9b"
      },
      "source": [
        "# Variable creation\n",
        "print(\"hello , Jntua\")\n",
        "print(\"hello, Jntua\" , \"|||\" , \"Chemical\" , \"|||\" , \"CSE\" , \"|||\", \"MCA\")\n"
      ],
      "execution_count": 3,
      "outputs": [
        {
          "output_type": "stream",
          "text": [
            "hello , Jntua\n",
            "hello, Jntua ||| Chemical ||| CSE ||| MCA\n"
          ],
          "name": "stdout"
        }
      ]
    },
    {
      "cell_type": "code",
      "metadata": {
        "id": "xYNVmn3-IEqD",
        "colab_type": "code",
        "colab": {}
      },
      "source": [
        ""
      ],
      "execution_count": 0,
      "outputs": []
    },
    {
      "cell_type": "markdown",
      "metadata": {
        "id": "HsP8IXtLIxum",
        "colab_type": "text"
      },
      "source": [
        "# Assignment"
      ]
    },
    {
      "cell_type": "code",
      "metadata": {
        "id": "sl5ebLi7I5vO",
        "colab_type": "code",
        "colab": {
          "base_uri": "https://localhost:8080/",
          "height": 68
        },
        "outputId": "b62efce8-bd11-42ef-f63b-dbe5fe27c7f4"
      },
      "source": [
        "n1 = 100 # single variable assignment\n",
        "print(n1)\n",
        "a = b = c = 10 # multi variable assignment of same value\n",
        "print(a,b,c)\n",
        "a1,b1,c1 = 100,200,300 # multiple variable assignment with different values\n",
        "print(a1,b1,c1)"
      ],
      "execution_count": 7,
      "outputs": [
        {
          "output_type": "stream",
          "text": [
            "100\n",
            "10 10 10\n",
            "100 200 300\n"
          ],
          "name": "stdout"
        }
      ]
    },
    {
      "cell_type": "markdown",
      "metadata": {
        "id": "-VA3kRIRKia-",
        "colab_type": "text"
      },
      "source": [
        "# Data types and conversions\n",
        "* int\n",
        "* float\n",
        "* string\n"
      ]
    },
    {
      "cell_type": "code",
      "metadata": {
        "id": "u02MKxCzKzse",
        "colab_type": "code",
        "colab": {
          "base_uri": "https://localhost:8080/",
          "height": 34
        },
        "outputId": "5478327d-7cac-461b-c263-abff4db40417"
      },
      "source": [
        "a = 100\n",
        "s1 = 10.2\n",
        "s2 = \"python\"\n",
        "print(type(a),type(s1),type(s2))"
      ],
      "execution_count": 8,
      "outputs": [
        {
          "output_type": "stream",
          "text": [
            "<class 'int'> <class 'float'> <class 'str'>\n"
          ],
          "name": "stdout"
        }
      ]
    },
    {
      "cell_type": "code",
      "metadata": {
        "id": "XqSK4LSbLdHw",
        "colab_type": "code",
        "colab": {
          "base_uri": "https://localhost:8080/",
          "height": 68
        },
        "outputId": "8bc75c84-a5c8-4d8f-a9fa-2703cbbe296e"
      },
      "source": [
        "i = 100\n",
        "print(type(i))\n",
        "s1 = str(i)\n",
        "print(type(s1))\n",
        "f1 = float(i)\n",
        "print(type(f1))"
      ],
      "execution_count": 11,
      "outputs": [
        {
          "output_type": "stream",
          "text": [
            "<class 'int'>\n",
            "<class 'str'>\n",
            "<class 'float'>\n"
          ],
          "name": "stdout"
        }
      ]
    },
    {
      "cell_type": "code",
      "metadata": {
        "id": "su5bPk8wL7he",
        "colab_type": "code",
        "colab": {
          "base_uri": "https://localhost:8080/",
          "height": 34
        },
        "outputId": "80113afa-13dc-4b45-d075-3868034b24e2"
      },
      "source": [
        "# length\n",
        "a = 123456\n",
        "print(len(str(a)))\n"
      ],
      "execution_count": 13,
      "outputs": [
        {
          "output_type": "stream",
          "text": [
            "6\n"
          ],
          "name": "stdout"
        }
      ]
    },
    {
      "cell_type": "markdown",
      "metadata": {
        "id": "DMeDCnwcNbpz",
        "colab_type": "text"
      },
      "source": [
        "# Reading input from user---input function"
      ]
    },
    {
      "cell_type": "code",
      "metadata": {
        "id": "6UGAO-uFNq1A",
        "colab_type": "code",
        "colab": {
          "base_uri": "https://localhost:8080/",
          "height": 68
        },
        "outputId": "dbbf1f0b-a756-4aa9-8b0e-29a8ce114b2f"
      },
      "source": [
        "a = input(\"enter ur name :\")\n",
        "print(a)\n",
        "print(type(a))"
      ],
      "execution_count": 16,
      "outputs": [
        {
          "output_type": "stream",
          "text": [
            "enter ur name :ramanan\n",
            "ramanan\n",
            "<class 'str'>\n"
          ],
          "name": "stdout"
        }
      ]
    },
    {
      "cell_type": "code",
      "metadata": {
        "id": "v_nLb3EtOFrW",
        "colab_type": "code",
        "colab": {
          "base_uri": "https://localhost:8080/",
          "height": 68
        },
        "outputId": "2b4cac65-a51c-48db-f13a-33649d5be2ca"
      },
      "source": [
        "b = int(input(\"enter ur AGE :\"))\n",
        "print(b)\n",
        "print(type(b))"
      ],
      "execution_count": 17,
      "outputs": [
        {
          "output_type": "stream",
          "text": [
            "enter ur AGE :19\n",
            "19\n",
            "<class 'int'>\n"
          ],
          "name": "stdout"
        }
      ]
    },
    {
      "cell_type": "markdown",
      "metadata": {
        "id": "MgzTtFKQPWD_",
        "colab_type": "text"
      },
      "source": [
        "# Operators\n",
        "-Operators is a symbol used to perform a specific kind of operations"
      ]
    },
    {
      "cell_type": "markdown",
      "metadata": {
        "id": "XuaOWgIqPkcz",
        "colab_type": "text"
      },
      "source": [
        "# Arithmetic Operators\n",
        "- +\n",
        "- -\n",
        "- *\n",
        "- /\n",
        "- %\n",
        "- "
      ]
    },
    {
      "cell_type": "code",
      "metadata": {
        "id": "4Raa8WV-QKEF",
        "colab_type": "code",
        "colab": {
          "base_uri": "https://localhost:8080/",
          "height": 136
        },
        "outputId": "00a9e859-6b28-4e90-81d3-c2c5433d47af"
      },
      "source": [
        "a = 1234\n",
        "print(a+10)\n",
        "print(a-10)\n",
        "print(a*10)\n",
        "print(a/10)\n",
        "print(a%10)\n",
        "print(a//10)\n",
        "print(a**10)\n"
      ],
      "execution_count": 18,
      "outputs": [
        {
          "output_type": "stream",
          "text": [
            "1244\n",
            "1224\n",
            "12340\n",
            "123.4\n",
            "4\n",
            "123\n",
            "8187505353567209228244052427776\n"
          ],
          "name": "stdout"
        }
      ]
    },
    {
      "cell_type": "markdown",
      "metadata": {
        "id": "dqMbJ6lxR8ob",
        "colab_type": "text"
      },
      "source": [
        "# Relational Operator\n",
        "- =\n",
        "- ==\n",
        "- !=\n",
        "- <\n",
        "- >\n",
        "- <=\n",
        "- >="
      ]
    },
    {
      "cell_type": "code",
      "metadata": {
        "id": "AdGZZWe3SZc9",
        "colab_type": "code",
        "colab": {
          "base_uri": "https://localhost:8080/",
          "height": 34
        },
        "outputId": "14c60ae4-4a61-49c0-90de-9296094596c9"
      },
      "source": [
        "x = 10\n",
        "a1 = x > 15\n",
        "print(a1)"
      ],
      "execution_count": 19,
      "outputs": [
        {
          "output_type": "stream",
          "text": [
            "False\n"
          ],
          "name": "stdout"
        }
      ]
    },
    {
      "cell_type": "markdown",
      "metadata": {
        "id": "XSk4hnVYS7NJ",
        "colab_type": "text"
      },
      "source": [
        "# Logical Operators\n",
        "- and\n",
        "- or\n",
        "- not"
      ]
    },
    {
      "cell_type": "code",
      "metadata": {
        "id": "X2nZWHr3TLlw",
        "colab_type": "code",
        "colab": {
          "base_uri": "https://localhost:8080/",
          "height": 68
        },
        "outputId": "71f0fbe1-7310-4ccd-9671-7c6b375aad67"
      },
      "source": [
        "i = 100\n",
        "a1 = (i>15) and (i<800)\n",
        "a2 = (i>15) or (i>800)\n",
        "i = not 100\n",
        "print(a1)\n",
        "print(a2)\n",
        "print(i)"
      ],
      "execution_count": 25,
      "outputs": [
        {
          "output_type": "stream",
          "text": [
            "True\n",
            "True\n",
            "False\n"
          ],
          "name": "stdout"
        }
      ]
    },
    {
      "cell_type": "markdown",
      "metadata": {
        "id": "p5S-H4meUmOS",
        "colab_type": "text"
      },
      "source": [
        "# Control flow statements\n",
        "- conditional statements\n",
        "- looping statements"
      ]
    },
    {
      "cell_type": "markdown",
      "metadata": {
        "id": "Ty3SqBKlVBsM",
        "colab_type": "text"
      },
      "source": [
        "# if - else statements\n",
        "## syntax\n",
        "# if Boolean_condition\n",
        "# statements\n",
        "# else:\n",
        "# statements"
      ]
    },
    {
      "cell_type": "code",
      "metadata": {
        "id": "ONwkPcKWVYIK",
        "colab_type": "code",
        "colab": {
          "base_uri": "https://localhost:8080/",
          "height": 51
        },
        "outputId": "7bec7ae9-29b3-4fd4-bd2e-496a4d7d612d"
      },
      "source": [
        "# to check given is even or odd\n",
        "n = int(input(\"enter a number\"))\n",
        "if n%2 == 0:\n",
        " print(n,\"is even number\")\n",
        "else:\n",
        "  print(n,\"is odd number\")"
      ],
      "execution_count": 30,
      "outputs": [
        {
          "output_type": "stream",
          "text": [
            "enter a number44\n",
            "44 is even number\n"
          ],
          "name": "stdout"
        }
      ]
    },
    {
      "cell_type": "code",
      "metadata": {
        "id": "HS66Wn3KV_IS",
        "colab_type": "code",
        "colab": {
          "base_uri": "https://localhost:8080/",
          "height": 51
        },
        "outputId": "6edb8921-4d4c-4d58-b6ac-afe11067baee"
      },
      "source": [
        "# to check given number is perfectly multiples of 3 and 5\n",
        "n = int(input(\"enter a number\"))\n",
        "if n%3 == 0 and n%5 == 0:\n",
        "  print(n,\"perfect\")\n",
        "else:\n",
        "  print(n,\"not perfect\")"
      ],
      "execution_count": 32,
      "outputs": [
        {
          "output_type": "stream",
          "text": [
            "enter a number20\n",
            "20 not perfect\n"
          ],
          "name": "stdout"
        }
      ]
    },
    {
      "cell_type": "code",
      "metadata": {
        "id": "oPD3MS8SX8tO",
        "colab_type": "code",
        "colab": {
          "base_uri": "https://localhost:8080/",
          "height": 51
        },
        "outputId": "e74da81b-3491-476b-aa5f-7aba53929da3"
      },
      "source": [
        "# to check given number is positive, negative or zero\n",
        "n = int(input(\"enter a number\"))\n",
        "if n<0:\n",
        "  print(n,\"negative\")\n",
        "elif n>0:\n",
        " print(n,\"positive\")\n",
        "else:\n",
        " print(n,\"zero\")"
      ],
      "execution_count": 39,
      "outputs": [
        {
          "output_type": "stream",
          "text": [
            "enter a number0\n",
            "0 zero\n"
          ],
          "name": "stdout"
        }
      ]
    },
    {
      "cell_type": "code",
      "metadata": {
        "id": "8YKvtYRqaViZ",
        "colab_type": "code",
        "colab": {
          "base_uri": "https://localhost:8080/",
          "height": 85
        },
        "outputId": "4598179e-b759-4067-899c-737997f1656b"
      },
      "source": [
        "# find the largest number among the given 3 numbers\n",
        "a = int(input(a))\n",
        "b = int(input(b))\n",
        "c = int(input(c))\n",
        "if (a>b and a>c):\n",
        "  print(a,\"greatest\")\n",
        "elif (b>a and b>c):\n",
        " print(b,\"greatest\")\n",
        "else:\n",
        " print(c,\"greatest\")"
      ],
      "execution_count": 47,
      "outputs": [
        {
          "output_type": "stream",
          "text": [
            "4844\n",
            "4548\n",
            "4451\n",
            "51 greatest\n"
          ],
          "name": "stdout"
        }
      ]
    },
    {
      "cell_type": "code",
      "metadata": {
        "id": "j8AOUubkcVEH",
        "colab_type": "code",
        "colab": {
          "base_uri": "https://localhost:8080/",
          "height": 51
        },
        "outputId": "cf3e72cc-da3b-488a-dcc9-59e8390f8b85"
      },
      "source": [
        "# find a leap year\n",
        "n = int(input(\"enter a year :\"))\n",
        "if  (n%4==0 and n%100!=0) or n%400==0:\n",
        " print(n,\"LEAP YEAR\")\n",
        "else:\n",
        " print(n,\"NOT LEAP YEAR\")"
      ],
      "execution_count": 54,
      "outputs": [
        {
          "output_type": "stream",
          "text": [
            "enter a year :2000\n",
            "2000 LEAP YEAR\n"
          ],
          "name": "stdout"
        }
      ]
    },
    {
      "cell_type": "code",
      "metadata": {
        "id": "f0IbuhOXeMq6",
        "colab_type": "code",
        "colab": {}
      },
      "source": [
        ""
      ],
      "execution_count": 0,
      "outputs": []
    }
  ]
}